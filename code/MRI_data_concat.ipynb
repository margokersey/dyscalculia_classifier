{
 "cells": [
  {
   "cell_type": "code",
   "execution_count": 18,
   "id": "70eea830",
   "metadata": {},
   "outputs": [],
   "source": [
    "# This script will concatenate the imaging data from Bettina's subjects\n",
    "\n",
    "import os\n",
    "from os.path import isfile, join\n",
    "import pandas as pd\n",
    "import csv"
   ]
  },
  {
   "cell_type": "code",
   "execution_count": 19,
   "id": "3eea6a34",
   "metadata": {},
   "outputs": [],
   "source": [
    "root_dir = '/Users/mkersey/Library/CloudStorage/Box-Box/Math_Subject_MRI_Metrics/'\n",
    "subject = 'subject'"
   ]
  },
  {
   "cell_type": "code",
   "execution_count": 43,
   "id": "81ead5fc",
   "metadata": {},
   "outputs": [],
   "source": [
    "subjects = listdir(root_dir)\n",
    "metrics = 'aparc_area_lh_stats'"
   ]
  },
  {
   "cell_type": "code",
   "execution_count": null,
   "id": "eb81042e",
   "metadata": {},
   "outputs": [],
   "source": []
  },
  {
   "cell_type": "code",
   "execution_count": 40,
   "id": "5ea8ebad",
   "metadata": {},
   "outputs": [],
   "source": [
    "subject_folder = root_dir + subjects[1] + '/'"
   ]
  },
  {
   "cell_type": "code",
   "execution_count": 67,
   "id": "30758690",
   "metadata": {},
   "outputs": [],
   "source": [
    "metric_file = root_dir + subjects[1] + '/' + subjects[1] + '_' + metrics + '.xls'"
   ]
  },
  {
   "cell_type": "code",
   "execution_count": null,
   "id": "cccfa082",
   "metadata": {},
   "outputs": [],
   "source": []
  },
  {
   "cell_type": "code",
   "execution_count": 74,
   "id": "715f1f0c",
   "metadata": {},
   "outputs": [],
   "source": [
    "df = pd.read_csv(metric_file, sep='\\s+')"
   ]
  },
  {
   "cell_type": "code",
   "execution_count": null,
   "id": "12a2be56",
   "metadata": {},
   "outputs": [],
   "source": []
  },
  {
   "cell_type": "code",
   "execution_count": 57,
   "id": "3eec7bef",
   "metadata": {},
   "outputs": [
    {
     "data": {
      "text/html": [
       "<div>\n",
       "<style scoped>\n",
       "    .dataframe tbody tr th:only-of-type {\n",
       "        vertical-align: middle;\n",
       "    }\n",
       "\n",
       "    .dataframe tbody tr th {\n",
       "        vertical-align: top;\n",
       "    }\n",
       "\n",
       "    .dataframe thead th {\n",
       "        text-align: right;\n",
       "    }\n",
       "</style>\n",
       "<table border=\"1\" class=\"dataframe\">\n",
       "  <thead>\n",
       "    <tr style=\"text-align: right;\">\n",
       "      <th></th>\n",
       "      <th>lh.aparc.area\\tlh_bankssts_area\\tlh_caudalanteriorcingulate_area\\tlh_caudalmiddlefrontal_area\\tlh_cuneus_area\\tlh_entorhinal_area\\tlh_fusiform_area\\tlh_inferiorparietal_area\\tlh_inferiortemporal_area\\tlh_isthmuscingulate_area\\tlh_lateraloccipital_area\\tlh_lateralorbitofrontal_area\\tlh_lingual_area\\tlh_medialorbitofrontal_area\\tlh_middletemporal_area\\tlh_parahippocampal_area\\tlh_paracentral_area\\tlh_parsopercularis_area\\tlh_parsorbitalis_area\\tlh_parstriangularis_area\\tlh_pericalcarine_area\\tlh_postcentral_area\\tlh_posteriorcingulate_area\\tlh_precentral_area\\tlh_precuneus_area\\tlh_rostralanteriorcingulate_area\\tlh_rostralmiddlefrontal_area\\tlh_superiorfrontal_area\\tlh_superiorparietal_area\\tlh_superiortemporal_area\\tlh_supramarginal_area\\tlh_frontalpole_area\\tlh_temporalpole_area\\tlh_transversetemporal_area\\tlh_insula_area\\tlh_WhiteSurfArea_area\\tBrainSegVolNotVent\\teTIV</th>\n",
       "    </tr>\n",
       "  </thead>\n",
       "  <tbody>\n",
       "    <tr>\n",
       "      <th>0</th>\n",
       "      <td>dc30854_2019-06-13\\t1300.0\\t765.0\\t2973.0\\t177...</td>\n",
       "    </tr>\n",
       "  </tbody>\n",
       "</table>\n",
       "</div>"
      ],
      "text/plain": [
       "  lh.aparc.area\\tlh_bankssts_area\\tlh_caudalanteriorcingulate_area\\tlh_caudalmiddlefrontal_area\\tlh_cuneus_area\\tlh_entorhinal_area\\tlh_fusiform_area\\tlh_inferiorparietal_area\\tlh_inferiortemporal_area\\tlh_isthmuscingulate_area\\tlh_lateraloccipital_area\\tlh_lateralorbitofrontal_area\\tlh_lingual_area\\tlh_medialorbitofrontal_area\\tlh_middletemporal_area\\tlh_parahippocampal_area\\tlh_paracentral_area\\tlh_parsopercularis_area\\tlh_parsorbitalis_area\\tlh_parstriangularis_area\\tlh_pericalcarine_area\\tlh_postcentral_area\\tlh_posteriorcingulate_area\\tlh_precentral_area\\tlh_precuneus_area\\tlh_rostralanteriorcingulate_area\\tlh_rostralmiddlefrontal_area\\tlh_superiorfrontal_area\\tlh_superiorparietal_area\\tlh_superiortemporal_area\\tlh_supramarginal_area\\tlh_frontalpole_area\\tlh_temporalpole_area\\tlh_transversetemporal_area\\tlh_insula_area\\tlh_WhiteSurfArea_area\\tBrainSegVolNotVent\\teTIV\n",
       "0  dc30854_2019-06-13\\t1300.0\\t765.0\\t2973.0\\t177...                                                                                                                                                                                                                                                                                                                                                                                                                                                                                                                                                                                                                                                                                                                                                                                                                                                                "
      ]
     },
     "execution_count": 57,
     "metadata": {},
     "output_type": "execute_result"
    }
   ],
   "source": [
    "df = pd.DataFrame(subjects) \n",
    "    \n",
    "# saving the dataframe \n",
    "df.to_csv('/Users/mkersey/data/subjects_dyscalculia_classifier.csv') "
   ]
  },
  {
   "cell_type": "code",
   "execution_count": 22,
   "id": "9481d613",
   "metadata": {},
   "outputs": [
    {
     "data": {
      "text/plain": [
       "'/Users/mkersey/code/dyscalculia_classifier/code'"
      ]
     },
     "execution_count": 22,
     "metadata": {},
     "output_type": "execute_result"
    }
   ],
   "source": [
    "os.getcwd()"
   ]
  },
  {
   "cell_type": "code",
   "execution_count": null,
   "id": "626fe5dc",
   "metadata": {},
   "outputs": [],
   "source": []
  },
  {
   "cell_type": "code",
   "execution_count": null,
   "id": "779365f0",
   "metadata": {},
   "outputs": [],
   "source": []
  },
  {
   "cell_type": "code",
   "execution_count": null,
   "id": "49abd1dd",
   "metadata": {},
   "outputs": [],
   "source": [
    "# create a for loop to go to subjects folder, then metric file and append each subject as a row for each metric file"
   ]
  }
 ],
 "metadata": {
  "kernelspec": {
   "display_name": "Python 3 (ipykernel)",
   "language": "python",
   "name": "python3"
  },
  "language_info": {
   "codemirror_mode": {
    "name": "ipython",
    "version": 3
   },
   "file_extension": ".py",
   "mimetype": "text/x-python",
   "name": "python",
   "nbconvert_exporter": "python",
   "pygments_lexer": "ipython3",
   "version": "3.8.9"
  }
 },
 "nbformat": 4,
 "nbformat_minor": 5
}
